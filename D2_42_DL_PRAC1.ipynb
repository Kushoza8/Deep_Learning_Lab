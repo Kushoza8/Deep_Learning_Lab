{
  "nbformat": 4,
  "nbformat_minor": 0,
  "metadata": {
    "colab": {
      "provenance": []
    },
    "kernelspec": {
      "name": "python3",
      "display_name": "Python 3"
    },
    "language_info": {
      "name": "python"
    }
  },
  "cells": [
    {
      "cell_type": "code",
      "source": [
        "# NAME: KUSH OZA\n",
        "# ROLL: 42\n",
        "# BATHC: D2\n",
        "# DL PRACTICAL -1"
      ],
      "metadata": {
        "id": "fESk4XMUqMRH"
      },
      "execution_count": 31,
      "outputs": []
    },
    {
      "cell_type": "code",
      "source": [
        "x_input=[0.1,0.5,0.2]\n",
        "w_weights=[0.7,0.9,0.5] #as here when we increase the weights or decrease the threshold we\n",
        "#will get the output as 1\n",
        "threshold=0.2"
      ],
      "metadata": {
        "id": "WsLru1sSJDG3"
      },
      "execution_count": 30,
      "outputs": []
    },
    {
      "cell_type": "code",
      "source": [
        "def step(weighted_sum):\n",
        "  if weighted_sum >= threshold:\n",
        "    return 1\n",
        "  else:\n",
        "    return 0"
      ],
      "metadata": {
        "id": "2JtRBL7gqMTf"
      },
      "execution_count": 9,
      "outputs": []
    },
    {
      "cell_type": "code",
      "source": [
        "def perceptron():\n",
        "  weighted_sum=0\n",
        "  for x,w in zip(x_input,w_weights):\n",
        "    weighted_sum +=x*w\n",
        "    print(weighted_sum)\n",
        "  return step(weighted_sum)"
      ],
      "metadata": {
        "id": "fpLwf_PSqMV_"
      },
      "execution_count": 10,
      "outputs": []
    },
    {
      "cell_type": "code",
      "source": [
        "output=perceptron()\n",
        "print(\"output = \",output)"
      ],
      "metadata": {
        "colab": {
          "base_uri": "https://localhost:8080/"
        },
        "id": "kndQGxw3qMYQ",
        "outputId": "96cba62d-0804-420b-a99e-7ca4d7472fd8"
      },
      "execution_count": 11,
      "outputs": [
        {
          "output_type": "stream",
          "name": "stdout",
          "text": [
            "0.06999999999999999\n",
            "0.52\n",
            "0.62\n",
            "output =  1\n"
          ]
        }
      ]
    },
    {
      "cell_type": "code",
      "source": [],
      "metadata": {
        "id": "3OMwhLgYqMau"
      },
      "execution_count": 11,
      "outputs": []
    },
    {
      "cell_type": "markdown",
      "source": [
        "change **threshold**"
      ],
      "metadata": {
        "id": "CyWK9xhLstYP"
      }
    },
    {
      "cell_type": "code",
      "source": [
        "# //new weighth = original weight + error"
      ],
      "metadata": {
        "id": "JO97A0YbtCEI"
      },
      "execution_count": 12,
      "outputs": []
    },
    {
      "cell_type": "markdown",
      "source": [
        "##**Applying_perceprton_modelofSKLEARN**"
      ],
      "metadata": {
        "id": "G2QgFFM9zPYQ"
      }
    },
    {
      "cell_type": "code",
      "source": [
        "import pandas as pd\n",
        "from sklearn.metrics import accuracy_score\n",
        "from sklearn.linear_model import Perceptron\n",
        "from sklearn.model_selection import train_test_split\n"
      ],
      "metadata": {
        "id": "nvH4pL7qzVMm"
      },
      "execution_count": 13,
      "outputs": []
    },
    {
      "cell_type": "code",
      "source": [
        "import numpy as np\n",
        "\n",
        "def unitStep(v):\n",
        "   if v >= 0:\n",
        "    return 1\n",
        "   else:\n",
        "    return 0\n",
        "\n",
        "def perceptronModel(x, w, b):\n",
        "   v = np.dot(w, x) + b\n",
        "   y = unitStep(v)\n",
        "   return y\n",
        "\n",
        "# AND Logic Function\n",
        "# w1 = 1, w2 = 1, b = -1.5\n",
        "def AND_logicFunction(x):\n",
        "   w = np.array([1, 1])\n",
        "   b = -1.5\n",
        "   return perceptronModel(x, w, b)\n",
        "\n",
        "# testing the Perceptron Model\n",
        "test1 = np.array([0, 1])\n",
        "test2 = np.array([1, 1])\n",
        "test3 = np.array([0, 0])\n",
        "test4 = np.array([1, 0])\n",
        "\n",
        "print(\"AND({}, {}) = {}\".format(0, 1, AND_logicFunction(test1)))\n",
        "print(\"AND({}, {}) = {}\".format(1, 1, AND_logicFunction(test2)))\n",
        "print(\"AND({}, {}) = {}\".format(0, 0, AND_logicFunction(test3)))\n",
        "print(\"AND({}, {}) = {}\".format(1, 0, AND_logicFunction(test4)))\n"
      ],
      "metadata": {
        "id": "y-aT70Wl2qEw",
        "colab": {
          "base_uri": "https://localhost:8080/"
        },
        "outputId": "97164169-3b5f-49c8-d3e0-c0291ea6c206"
      },
      "execution_count": 14,
      "outputs": [
        {
          "output_type": "stream",
          "name": "stdout",
          "text": [
            "AND(0, 1) = 0\n",
            "AND(1, 1) = 1\n",
            "AND(0, 0) = 0\n",
            "AND(1, 0) = 0\n"
          ]
        }
      ]
    },
    {
      "cell_type": "code",
      "source": [
        "# importing Python library\n",
        "import numpy as np\n",
        "\n",
        "# define Unit Step Function\n",
        "def unitStep(v):\n",
        "   if v >= 0:\n",
        "    return 1\n",
        "   else:\n",
        "    return 0\n",
        "\n",
        "# design Perceptron Model\n",
        "def perceptronModel(x, w, b):\n",
        "   v = np.dot(w, x) + b\n",
        "   y = unitStep(v)\n",
        "   return y\n",
        "\n",
        "# OR Logic Function\n",
        "\n",
        "# w1 = 1, w2 = 1, b = -1.5\n",
        "def AND_logicFunction(x):\n",
        "   w = np.array([1, 1])\n",
        "   b = -0.5\n",
        "   return perceptronModel(x, w, b)\n",
        "\n",
        "# testing the Perceptron Model\n",
        "test1 = np.array([0, 1])\n",
        "test2 = np.array([1, 1])\n",
        "test3 = np.array([0, 0])\n",
        "test4 = np.array([1, 0])\n",
        "\n",
        "print(\"AND({}, {}) = {}\".format(0, 1, AND_logicFunction(test1)))\n",
        "print(\"AND({}, {}) = {}\".format(1, 1, AND_logicFunction(test2)))\n",
        "print(\"AND({}, {}) = {}\".format(0, 0, AND_logicFunction(test3)))\n",
        "print(\"AND({}, {}) = {}\".format(1, 0, AND_logicFunction(test4)))"
      ],
      "metadata": {
        "colab": {
          "base_uri": "https://localhost:8080/"
        },
        "id": "BfARmjwvHRg_",
        "outputId": "4621a818-684c-4e8e-9423-749c3580dcfa"
      },
      "execution_count": 15,
      "outputs": [
        {
          "output_type": "stream",
          "name": "stdout",
          "text": [
            "AND(0, 1) = 1\n",
            "AND(1, 1) = 1\n",
            "AND(0, 0) = 0\n",
            "AND(1, 0) = 1\n"
          ]
        }
      ]
    },
    {
      "cell_type": "code",
      "source": [
        "# AND Logic Function\n",
        "# w1 = 1, w2 = 1, b = -1.5\n",
        "def AND_logicFunction(x):\n",
        "    w = np.array([1, 1])\n",
        "    b = -1.5\n",
        "    return perceptronModel(x, w, b)\n",
        "\n",
        "# testing the Perceptron Model for AND gate\n",
        "test1 = np.array([0, 1])\n",
        "test2 = np.array([1, 1])\n",
        "test3 = np.array([0, 0])\n",
        "test4 = np.array([1, 0])\n",
        "\n",
        "print(\"AND({}, {}) = {}\".format(0, 1, AND_logicFunction(test1)))\n",
        "print(\"AND({}, {}) = {}\".format(1, 1, AND_logicFunction(test2)))\n",
        "print(\"AND({}, {}) = {}\".format(0, 0, AND_logicFunction(test3)))\n",
        "print(\"AND({}, {}) = {}\".format(1, 0, AND_logicFunction(test4)))\n"
      ],
      "metadata": {
        "colab": {
          "base_uri": "https://localhost:8080/"
        },
        "id": "u0xPNrlmHRlf",
        "outputId": "1511a7b1-7750-491f-f7a5-5421e00b8049"
      },
      "execution_count": 16,
      "outputs": [
        {
          "output_type": "stream",
          "name": "stdout",
          "text": [
            "AND(0, 1) = 0\n",
            "AND(1, 1) = 1\n",
            "AND(0, 0) = 0\n",
            "AND(1, 0) = 0\n"
          ]
        }
      ]
    },
    {
      "cell_type": "code",
      "source": [
        "# OR Logic Function\n",
        "# w1 = 1, w2 = 1, b = -0.5\n",
        "def OR_logicFunction(x):\n",
        "    w = np.array([1, 1])\n",
        "    b = -0.5\n",
        "    return perceptronModel(x, w, b)\n",
        "\n",
        "# testing the Perceptron Model for OR gate\n",
        "test1 = np.array([0, 1])\n",
        "test2 = np.array([1, 1])\n",
        "test3 = np.array([0, 0])\n",
        "test4 = np.array([1, 0])\n",
        "\n",
        "print(\"OR({}, {}) = {}\".format(0, 1, OR_logicFunction(test1)))\n",
        "print(\"OR({}, {}) = {}\".format(1, 1, OR_logicFunction(test2)))\n",
        "print(\"OR({}, {}) = {}\".format(0, 0, OR_logicFunction(test3)))\n",
        "print(\"OR({}, {}) = {}\".format(1, 0, OR_logicFunction(test4)))\n"
      ],
      "metadata": {
        "colab": {
          "base_uri": "https://localhost:8080/"
        },
        "id": "oYA0iAE_HRno",
        "outputId": "de9db9a2-be1a-423e-d527-d38181236293"
      },
      "execution_count": 17,
      "outputs": [
        {
          "output_type": "stream",
          "name": "stdout",
          "text": [
            "OR(0, 1) = 1\n",
            "OR(1, 1) = 1\n",
            "OR(0, 0) = 0\n",
            "OR(1, 0) = 1\n"
          ]
        }
      ]
    },
    {
      "cell_type": "code",
      "source": [
        "# importing Python library\n",
        "import numpy as np\n",
        "\n",
        "# define Unit Step Function\n",
        "def unitStep(v):\n",
        "\tif v >= 0:\n",
        "\t\treturn 1\n",
        "\telse:\n",
        "\t\treturn 0\n",
        "\n",
        "# design Perceptron Model\n",
        "def perceptronModel(x, w, b):\n",
        "\tv = np.dot(w, x) + b\n",
        "\ty = unitStep(v)\n",
        "\treturn y\n",
        "\n",
        "# NOT Logic Function\n",
        "# w = -1, b = 0.5\n",
        "def NOT_logicFunction(x):\n",
        "\tw = -1\n",
        "\tb = 0.5\n",
        "\treturn perceptronModel(x, w, b)\n",
        "\n",
        "# testing the Perceptron Model\n",
        "test1 = np.array(1)\n",
        "test2 = np.array(0)\n",
        "\n",
        "print(\"NOT({}) = {}\".format(1, NOT_logicFunction(test1)))\n",
        "print(\"NOT({}) = {}\".format(0, NOT_logicFunction(test2)))\n",
        "\n"
      ],
      "metadata": {
        "colab": {
          "base_uri": "https://localhost:8080/"
        },
        "id": "6eIA7CGTHRrQ",
        "outputId": "3420bb9d-9118-49aa-e1a1-17b79b2b4620"
      },
      "execution_count": 18,
      "outputs": [
        {
          "output_type": "stream",
          "name": "stdout",
          "text": [
            "NOT(1) = 0\n",
            "NOT(0) = 1\n"
          ]
        }
      ]
    },
    {
      "cell_type": "code",
      "source": [
        "# importing Python library\n",
        "import numpy as np\n",
        "\n",
        "# define Unit Step Function\n",
        "def unitStep(v):\n",
        "\tif v >= 0:\n",
        "\t\treturn 1\n",
        "\telse:\n",
        "\t\treturn 0\n",
        "\n",
        "# design Perceptron Model\n",
        "def perceptronModel(x, w, b):\n",
        "\tv = np.dot(w, x) + b\n",
        "\ty = unitStep(v)\n",
        "\treturn y\n",
        "\n",
        "# NOT Logic Function\n",
        "# wNOT = -1, bNOT = 0.5\n",
        "def NOT_logicFunction(x):\n",
        "\twNOT = -1\n",
        "\tbNOT = 0.5\n",
        "\treturn perceptronModel(x, wNOT, bNOT)\n",
        "\n",
        "# AND Logic Function\n",
        "# here w1 = wAND1 = 1,\n",
        "# w2 = wAND2 = 1, bAND = -1.5\n",
        "def AND_logicFunction(x):\n",
        "\tw = np.array([1, 1])\n",
        "\tbAND = -1.5\n",
        "\treturn perceptronModel(x, w, bAND)\n",
        "\n",
        "# OR Logic Function\n",
        "# w1 = 1, w2 = 1, bOR = -0.5\n",
        "def OR_logicFunction(x):\n",
        "\tw = np.array([1, 1])\n",
        "\tbOR = -0.5\n",
        "\treturn perceptronModel(x, w, bOR)\n",
        "\n",
        "# XOR Logic Function\n",
        "# with AND, OR and NOT\n",
        "# function calls in sequence\n",
        "def XOR_logicFunction(x):\n",
        "\ty1 = AND_logicFunction(x)\n",
        "\ty2 = OR_logicFunction(x)\n",
        "\ty3 = NOT_logicFunction(y1)\n",
        "\tfinal_x = np.array([y2, y3])\n",
        "\tfinalOutput = AND_logicFunction(final_x)\n",
        "\treturn finalOutput\n",
        "\n",
        "# testing the Perceptron Model\n",
        "test1 = np.array([0, 1])\n",
        "test2 = np.array([1, 1])\n",
        "test3 = np.array([0, 0])\n",
        "test4 = np.array([1, 0])\n",
        "\n",
        "print(\"XOR({}, {}) = {}\".format(0, 1, XOR_logicFunction(test1)))\n",
        "print(\"XOR({}, {}) = {}\".format(1, 1, XOR_logicFunction(test2)))\n",
        "print(\"XOR({}, {}) = {}\".format(0, 0, XOR_logicFunction(test3)))\n",
        "print(\"XOR({}, {}) = {}\".format(1, 0, XOR_logicFunction(test4)))\n",
        "\n"
      ],
      "metadata": {
        "colab": {
          "base_uri": "https://localhost:8080/"
        },
        "id": "_tbm5lazHRt-",
        "outputId": "33dbd5ac-5654-4c4e-e955-31e29b5baf88"
      },
      "execution_count": 19,
      "outputs": [
        {
          "output_type": "stream",
          "name": "stdout",
          "text": [
            "XOR(0, 1) = 1\n",
            "XOR(1, 1) = 0\n",
            "XOR(0, 0) = 0\n",
            "XOR(1, 0) = 1\n"
          ]
        }
      ]
    },
    {
      "cell_type": "code",
      "source": [
        "# importing Python library\n",
        "import numpy as np\n",
        "\n",
        "# define Unit Step Function\n",
        "def unitStep(v):\n",
        "   if v <= 0:\n",
        "    return 1\n",
        "   else:\n",
        "    return 0\n",
        "\n",
        "# design Perceptron Model\n",
        "def perceptronModel(x, w, b):\n",
        "   v = np.dot(w, x) + b\n",
        "   y = unitStep(v)\n",
        "   return y\n",
        "\n",
        "# NOR Logic Function\n",
        "\n",
        "# w1 = 1, w2 = 1, b = -1.5\n",
        "def NOR_logicFunction(x):\n",
        "   w = np.array([1, 1])\n",
        "   b = -0.5\n",
        "   return perceptronModel(x, w, b)\n",
        "\n",
        "# testing the Perceptron Model\n",
        "test1 = np.array([0, 1])\n",
        "test2 = np.array([1, 1])\n",
        "test3 = np.array([0, 0])\n",
        "test4 = np.array([1, 0])\n",
        "\n",
        "print(\"AND({}, {}) = {}\".format(0, 1, NOR_logicFunction(test1)))\n",
        "print(\"AND({}, {}) = {}\".format(1, 1, NOR_logicFunction(test2)))\n",
        "print(\"AND({}, {}) = {}\".format(0, 0, NOR_logicFunction(test3)))\n",
        "print(\"AND({}, {}) = {}\".format(1, 0, NOR_logicFunction(test4)))"
      ],
      "metadata": {
        "id": "YLbQnuYzHRwg",
        "colab": {
          "base_uri": "https://localhost:8080/"
        },
        "outputId": "cabc4f27-58d9-42a6-b14f-06724be1f1d1"
      },
      "execution_count": 20,
      "outputs": [
        {
          "output_type": "stream",
          "name": "stdout",
          "text": [
            "AND(0, 1) = 0\n",
            "AND(1, 1) = 0\n",
            "AND(0, 0) = 1\n",
            "AND(1, 0) = 0\n"
          ]
        }
      ]
    },
    {
      "cell_type": "code",
      "source": [
        "import numpy as np\n",
        "\n",
        "def unitStep(v):\n",
        "   if v == 0:\n",
        "    return 1\n",
        "   else:\n",
        "    return 0\n",
        "\n",
        "def perceptronModel(x, w, b):\n",
        "   v = np.dot(w, x) + b\n",
        "   y = unitStep(v)\n",
        "   return y\n",
        "\n",
        "# AND Logic Function\n",
        "# w1 = 1, w2 = 1, b = -1.5\n",
        "def AND_logicFunction(x):\n",
        "   w = np.array([1, 1])\n",
        "   b = -1\n",
        "   return perceptronModel(x, w, b)\n",
        "\n",
        "# testing the Perceptron Model\n",
        "test1 = np.array([0, 1])\n",
        "test2 = np.array([1, 1])\n",
        "test3 = np.array([0, 0])\n",
        "test4 = np.array([1, 0])\n",
        "\n",
        "print(\"AND({}, {}) = {}\".format(0, 1, AND_logicFunction(test1)))\n",
        "print(\"AND({}, {}) = {}\".format(1, 1, AND_logicFunction(test2)))\n",
        "print(\"AND({}, {}) = {}\".format(0, 0, AND_logicFunction(test3)))\n",
        "print(\"AND({}, {}) = {}\".format(1, 0, AND_logicFunction(test4)))\n"
      ],
      "metadata": {
        "id": "LrhNG86OHR0u",
        "colab": {
          "base_uri": "https://localhost:8080/"
        },
        "outputId": "e9dca570-6ecc-40bc-88cb-c01d43f2864a"
      },
      "execution_count": 21,
      "outputs": [
        {
          "output_type": "stream",
          "name": "stdout",
          "text": [
            "AND(0, 1) = 1\n",
            "AND(1, 1) = 0\n",
            "AND(0, 0) = 0\n",
            "AND(1, 0) = 1\n"
          ]
        }
      ]
    },
    {
      "cell_type": "code",
      "source": [
        "import numpy as np\n",
        "\n",
        "def unitStep(v):\n",
        "   if v >3:\n",
        "    return 1\n",
        "   else:\n",
        "    return 0\n",
        "\n",
        "def perceptronModel(x, w, b):\n",
        "   v = np.dot(w, x) + b\n",
        "   y = unitStep(v)\n",
        "   return y\n",
        "\n",
        "\n",
        "def EXAMPLE_logicFunction(x):\n",
        "   w = np.array([1,1,1])\n",
        "   b = 0.5\n",
        "   return perceptronModel(x, w, b)\n",
        "\n",
        "# testing the Perceptron Model\n",
        "test0 = np.array([0,0,0])\n",
        "test1 = np.array([0,0,1])\n",
        "test2 = np.array([0,1,0])\n",
        "test3 = np.array([0,1,1])\n",
        "test4 = np.array([1,0,0])\n",
        "test5 = np.array([1,0,1])\n",
        "test6 = np.array([1,1,0])\n",
        "test7 = np.array([1,1,1])\n",
        "\n",
        "\n",
        "print(\"EXAMPLE({}, {}, {}) = {}\".format(0,0,0, EXAMPLE_logicFunction(test0)))\n",
        "print(\"EXAMPLE({}, {}, {}) = {}\".format(0,0,1, EXAMPLE_logicFunction(test0)))\n",
        "print(\"EXAMPLE({}, {}, {}) = {}\".format(0,1,0, EXAMPLE_logicFunction(test0)))\n",
        "print(\"EXAMPLE({}, {}, {}) = {}\".format(0,1,1, EXAMPLE_logicFunction(test0)))\n",
        "print(\"EXAMPLE({}, {}, {}) = {}\".format(1,0,0, EXAMPLE_logicFunction(test0)))\n",
        "print(\"EXAMPLE({}, {}, {}) = {}\".format(1,0,1, EXAMPLE_logicFunction(test0)))\n",
        "print(\"EXAMPLE({}, {}, {}) = {}\".format(1,0,1, EXAMPLE_logicFunction(test0)))\n",
        "print(\"EXAMPLE({}, {}, {}) = {}\".format(1,1,0, EXAMPLE_logicFunction(test0)))\n",
        "print(\"EXAMPLE({}, {}, {}) = {}\".format(1,1,1, EXAMPLE_logicFunction(test0)))\n",
        "\n",
        "\n"
      ],
      "metadata": {
        "id": "50Hqm6CYHR6O",
        "colab": {
          "base_uri": "https://localhost:8080/"
        },
        "outputId": "e04e19b3-9e52-4f86-e789-63329ebda154"
      },
      "execution_count": 22,
      "outputs": [
        {
          "output_type": "stream",
          "name": "stdout",
          "text": [
            "EXAMPLE(0, 0, 0) = 0\n",
            "EXAMPLE(0, 0, 1) = 0\n",
            "EXAMPLE(0, 1, 0) = 0\n",
            "EXAMPLE(0, 1, 1) = 0\n",
            "EXAMPLE(1, 0, 0) = 0\n",
            "EXAMPLE(1, 0, 1) = 0\n",
            "EXAMPLE(1, 0, 1) = 0\n",
            "EXAMPLE(1, 1, 0) = 0\n",
            "EXAMPLE(1, 1, 1) = 0\n"
          ]
        }
      ]
    },
    {
      "cell_type": "code",
      "source": [
        "import numpy as np\n",
        "\n",
        "def unitStep(v):\n",
        "  if v >  2:\n",
        "    return 1\n",
        "  else:\n",
        "    return 0\n",
        "\n",
        "def perceptronModel(x, w, b):\n",
        "  v = np.dot(w, x) + b\n",
        "  y = unitStep(v)\n",
        "  return y\n",
        "\n",
        "# AND Logic Function\n",
        "# w1 = 1, w2 = 1, w3 = 1, b = 1\n",
        "def F_logicFunction(x):\n",
        "  w = np.array([1, 1, 1])\n",
        "  b = 1\n",
        "  return perceptronModel(x, w, b)\n",
        "\n",
        "test1 = np.array([-1, -1, -1])\n",
        "test2 = np.array([-1, -1, 1])\n",
        "test3 = np.array([-1,  1, -1])\n",
        "test4 = np.array([-1,  1,  1])\n",
        "test5 = np.array([ 1, -1, -1])\n",
        "test6 = np.array([ 1, -1,  1])\n",
        "test7 = np.array([ 1,  1, -1])\n",
        "test8 = np.array([ 1,  1,  1])\n",
        "\n",
        "print(\"F({}, {}, {}) = {}\".format(-1, -1, -1, F_logicFunction(test1)))\n",
        "print(\"F({}, {}, {}) = {}\".format(-1, -1,  1, F_logicFunction(test2)))\n",
        "print(\"F({}, {}, {}) = {}\".format(-1,  1, -1, F_logicFunction(test3)))\n",
        "print(\"F({}, {}, {}) = {}\".format(-1,  1,  1, F_logicFunction(test4)))\n",
        "print(\"F({}, {}, {}) = {}\".format( 1, -1, -1, F_logicFunction(test5)))\n",
        "print(\"F({}, {}, {}) = {}\".format( 1, -1,  1, F_logicFunction(test6)))\n",
        "print(\"F({}, {}, {}) = {}\".format( 1,  1, -1, F_logicFunction(test7)))\n",
        "print(\"F({}, {}, {}) = {}\".format( 1,  1,  1, F_logicFunction(test8)))"
      ],
      "metadata": {
        "colab": {
          "base_uri": "https://localhost:8080/"
        },
        "id": "aC765rct3fdZ",
        "outputId": "395bdcab-014c-4af9-905b-a7bbbcc62ec9"
      },
      "execution_count": 23,
      "outputs": [
        {
          "output_type": "stream",
          "name": "stdout",
          "text": [
            "F(-1, -1, -1) = 0\n",
            "F(-1, -1, 1) = 0\n",
            "F(-1, 1, -1) = 0\n",
            "F(-1, 1, 1) = 0\n",
            "F(1, -1, -1) = 0\n",
            "F(1, -1, 1) = 0\n",
            "F(1, 1, -1) = 0\n",
            "F(1, 1, 1) = 1\n"
          ]
        }
      ]
    },
    {
      "cell_type": "code",
      "source": [
        "import numpy as np\n",
        "\n",
        "#define the data points\n",
        "data_points = {\n",
        "    'P0' : np.array([-1, -1, -1]),\n",
        "    'P1' : np.array([-1, -1, 1]),\n",
        "    'P2' : np.array([-1,  1, -1]),\n",
        "    'P3' : np.array([-1,  1, 1]),\n",
        "    'P4' : np.array([ 1, -1, -1]),\n",
        "    'P5' : np.array([ 1, -1,  1]),\n",
        "    'P6' : np.array([ 1,  1, -1]),\n",
        "    'P7' : np.array([ 1,  1,  1])\n",
        "\n",
        "}\n"
      ],
      "metadata": {
        "id": "hf7gLTSh5cJQ"
      },
      "execution_count": 24,
      "outputs": []
    },
    {
      "cell_type": "code",
      "source": [
        "c1=['P7']\n",
        "c2=['P0','P1','P2','P3','P4','P5','P6']"
      ],
      "metadata": {
        "id": "NbK4aEuY7URp"
      },
      "execution_count": 25,
      "outputs": []
    },
    {
      "cell_type": "code",
      "source": [
        "#initialize weights and bias\n",
        "\n",
        "weights=np.zeros(len(data_points['P0']))\n",
        "bias=0\n",
        "print(weights)"
      ],
      "metadata": {
        "colab": {
          "base_uri": "https://localhost:8080/"
        },
        "id": "Iemr2GI69UKY",
        "outputId": "832a9f43-e153-40d4-e064-d1c390330de9"
      },
      "execution_count": 26,
      "outputs": [
        {
          "output_type": "stream",
          "name": "stdout",
          "text": [
            "[0. 0. 0.]\n"
          ]
        }
      ]
    },
    {
      "cell_type": "code",
      "source": [
        "# Define the learning rates\n",
        "learning_rate = 1"
      ],
      "metadata": {
        "id": "1Tx1fJZK9uIo"
      },
      "execution_count": 27,
      "outputs": []
    },
    {
      "cell_type": "code",
      "source": [
        "#define the epochs\n",
        "epoch = 100"
      ],
      "metadata": {
        "id": "Fe3zAlSM97Hy"
      },
      "execution_count": 28,
      "outputs": []
    },
    {
      "cell_type": "code",
      "source": [
        "# Perceptron Learning Algorithm\n",
        "\n",
        "for epoch in range(epoch):\n",
        "  for point in c2:\n",
        "    x=data_points[point]\n",
        "    y=1 # C2 is the positive class\n",
        "\n",
        "    #calculate the prediction\n",
        "\n",
        "    prediction=np.dot(weights,x)+bias\n",
        "\n",
        "    #update weights and bias based on the prediction\n",
        "    if prediction<=0:\n",
        "      weights +=learning_rate * x\n",
        "      bias += learning_rate"
      ],
      "metadata": {
        "id": "NUatwaGa97Ug"
      },
      "execution_count": 29,
      "outputs": []
    },
    {
      "cell_type": "code",
      "source": [],
      "metadata": {
        "id": "zfyNNNdD-T9g"
      },
      "execution_count": 29,
      "outputs": []
    }
  ]
}
